{
 "cells": [
  {
   "cell_type": "code",
   "execution_count": 1,
   "metadata": {},
   "outputs": [],
   "source": [
    "import numpy as np\n",
    "import math\n",
    "import heapq\n",
    "import matplotlib.pyplot as plt\n",
    "import scipy\n",
    "from scipy import signal"
   ]
  },
  {
   "cell_type": "markdown",
   "metadata": {},
   "source": [
    "all_points-- list точек\n",
    "\n",
    "points--list точек в функциях\n",
    "\n",
    "index, ind-- рассматриваемой точки\n",
    "\n",
    "next_reach_d-- reachability_dist, наименьший по отношению всех точек к рассматриваемой в данный момент точке"
   ]
  },
  {
   "cell_type": "code",
   "execution_count": 2,
   "metadata": {},
   "outputs": [],
   "source": [
    "UNDEFIEND = -1\n",
    "NOT_VISITED = -1\n",
    "\n",
    "class opt_struct:\n",
    "    core_dist = UNDEFIEND\n",
    "    coords = []\n",
    "    index = 0\n",
    "    def __lt__(self, other):\n",
    "        if (self.index < other.index):\n",
    "            return True\n",
    "        else:\n",
    "            return False\n",
    "    \n",
    "def get_core(points, ind, len_points, n_dist, min_pts):\n",
    "    if (len(n_dist[ind]) >= min_pts):\n",
    "        tmp = n_dist[ind]\n",
    "        tmp.sort()\n",
    "        return tmp[min_pts - 1]\n",
    "    return UNDEFIEND\n",
    "    \n",
    "def make_opt_struct_list(points, len_points, n_dist, min_pts):\n",
    "    opt_list = []\n",
    "    for i in range(len_points):\n",
    "        tmp = opt_struct()\n",
    "        tmp.coords = points[i]\n",
    "        tmp.core_dist = get_core(points, i, len_points, n_dist, min_pts)\n",
    "        tmp.index = i\n",
    "        opt_list.append(tmp)\n",
    "    return opt_list\n",
    "\n",
    "def dist(p1, p2):\n",
    "    #euclidean dist\n",
    "    #p1, p2--точки all_points\n",
    "    len_c = len(p1)\n",
    "    distance = 0\n",
    "    for i in range(len_c):\n",
    "        distance += (p1[i] - p2[i]) * (p1[i] - p2[i])\n",
    "    return math.sqrt(distance)\n",
    "\n",
    "def get_neighbors(points, now_ind, eps, length):\n",
    "    neigh = []\n",
    "    n_dist = []\n",
    "    for j in range(length):\n",
    "        d = dist(points[now_ind], points[j])\n",
    "        if ( d <= eps):\n",
    "            tmp = opt_struct()\n",
    "            tmp.coords = points[j]\n",
    "            tmp.index = j\n",
    "            neigh.append(tmp)\n",
    "            n_dist.append(d)\n",
    "    return neigh, n_dist"
   ]
  },
  {
   "cell_type": "code",
   "execution_count": 3,
   "metadata": {},
   "outputs": [],
   "source": [
    "def update(neigh, ind, seeds, eps, min_pts, opt_points, visited, length, reach_dist):\n",
    "    coredist = opt_points[ind].core_dist\n",
    "    for p in neigh:\n",
    "        if (visited[p.index] == NOT_VISITED):\n",
    "            new_reach_dist = max(coredist, dist(p.coords, opt_points[ind].coords))\n",
    "            if ((reach_dist[p.index] == UNDEFIEND) or (new_reach_dist < reach_dist[p.index])):\n",
    "                reach_dist[p.index] = new_reach_dist\n",
    "                heapq.heappush(seeds, (new_reach_dist, p))\n",
    "    return seeds"
   ]
  },
  {
   "cell_type": "code",
   "execution_count": 15,
   "metadata": {},
   "outputs": [],
   "source": [
    "def extract_labels(queue, reach_dist, min_pts):\n",
    "    result_dist = []\n",
    "    for p in queue:\n",
    "        result_dist.append(reach_dist[p.index])\n",
    "    peaks, properties = scipy.signal.find_peaks(result_dist, distance = min_pts)\n",
    "    peaks = np.append(peaks, len(result_dist))\n",
    "    \n",
    "    labels = [0 for i in range(len(result_dist))]\n",
    "    prev_label = 0\n",
    "    num_label = 1\n",
    "    for cur_label in peaks:\n",
    "        for point in range(prev_label, cur_label):\n",
    "            if ((result_dist[point] != UNDEFIEND)\n",
    "                and (labels[queue[point].index] == 0)):\n",
    "                labels[queue[point].index] = num_label\n",
    "        if ((cur_label < len(result_dist)) \n",
    "            and (result_dist[cur_label] != UNDEFIEND) \n",
    "            and (labels[queue[cur_label].index] == 0)):\n",
    "                labels[queue[cur_label].index] = num_label\n",
    "        prev_label = cur_label\n",
    "        num_label += 1\n",
    "    return labels"
   ]
  },
  {
   "cell_type": "code",
   "execution_count": 8,
   "metadata": {},
   "outputs": [],
   "source": [
    "def OPTICS(all_points, eps, min_pts):\n",
    "\n",
    "    length = len(all_points)\n",
    "    \n",
    "    all_neigh = []\n",
    "    neigh_dists = []\n",
    "    for i in range(length):\n",
    "        neig, n_dist = get_neighbors(all_points, i, eps, length)\n",
    "        all_neigh.append(neig)\n",
    "        neigh_dists.append(n_dist)\n",
    "    opt_points = make_opt_struct_list(all_points, length, neigh_dists, min_pts)\n",
    "    for n in all_neigh: # n ~ neighbors\n",
    "        for p in n: # p ~ point\n",
    "            p.core_dist = opt_points[p.index].core_dist\n",
    "    \n",
    "    reach_dist = [UNDEFIEND for i in range(length)]\n",
    "    visited = [NOT_VISITED for i in range(length)]\n",
    "    queue = []\n",
    "    \n",
    "    for p in opt_points:\n",
    "        if (visited[p.index] != NOT_VISITED):\n",
    "            continue\n",
    "        neigh = all_neigh[p.index]\n",
    "        visited[p.index] = 1\n",
    "        queue.append(p)\n",
    "        reach_dist[p.index] = p.core_dist\n",
    "        if (p.core_dist != UNDEFIEND):\n",
    "            seeds = []\n",
    "            seeds = update(neigh, p.index, seeds, eps, min_pts, opt_points, visited, length, reach_dist)\n",
    "            while (len(seeds) != 0):\n",
    "                q = heapq.heappop(seeds)\n",
    "                if (visited[q[1].index] != NOT_VISITED):\n",
    "                    continue\n",
    "                visited[q[1].index] = 1\n",
    "                queue.append(q[1])\n",
    "                neigh = all_neigh[q[1].index]\n",
    "                if (q[1].core_dist != UNDEFIEND):\n",
    "                    seeds = update(neigh, q[1].index, seeds, eps, min_pts, opt_points, visited, length, reach_dist)\n",
    "                    \n",
    "    labels = extract_labels(queue, reach_dist, min_pts)\n",
    "#     uncomment for graph\n",
    "    x = []\n",
    "    y = []\n",
    "    for i in all_points:\n",
    "        x.append(i[0])\n",
    "        y.append(i[1])\n",
    "    \n",
    "    plt.scatter(x, y, c = labels, s = 1)\n",
    "    \n",
    "    return labels"
   ]
  },
  {
   "cell_type": "markdown",
   "metadata": {},
   "source": [
    "$\\textbf{Example}$"
   ]
  },
  {
   "cell_type": "code",
   "execution_count": 17,
   "metadata": {
    "scrolled": false
   },
   "outputs": [
    {
     "data": {
      "image/png": "[encoded data removed]",
      "text/plain": [
       "<Figure size 432x288 with 1 Axes>"
      ]
     },
     "metadata": {
      "needs_background": "light"
     },
     "output_type": "display_data"
    }
   ],
   "source": [
    "from numpy import random\n",
    "N = 3000\n",
    "n = N // 2\n",
    "np.random.seed(42)\n",
    "x = np.random.normal(0, 1, (n, 2))\n",
    "x = np.append(x, np.random.normal(10, 1, (n, 2)), axis=0)\n",
    "x = np.append(x, np.random.normal(20, 1, (n, 2)), axis=0)\n",
    "# plt.plot(x)\n",
    "min_pts = 100\n",
    "eps = 5\n",
    "labels = OPTICS(x, eps, min_pts)\n",
    "# print(labels)"
   ]
  }
 ],
 "metadata": {
  "kernelspec": {
   "display_name": "Python 3",
   "language": "python",
   "name": "python3"
  },
  "language_info": {
   "codemirror_mode": {
    "name": "ipython",
    "version": 3
   },
   "file_extension": ".py",
   "mimetype": "text/x-python",
   "name": "python",
   "nbconvert_exporter": "python",
   "pygments_lexer": "ipython3",
   "version": "3.7.0"
  }
 },
 "nbformat": 4,
 "nbformat_minor": 2
}
